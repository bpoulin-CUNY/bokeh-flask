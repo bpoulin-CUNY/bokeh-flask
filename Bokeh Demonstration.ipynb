{
 "cells": [
  {
   "cell_type": "markdown",
   "metadata": {},
   "source": [
    "# Importing Libraries & Setting Ourselves Up to Succeed\n",
    "\n",
    "The key things here are the requests for getting the data and the various bokeh imports to facilitate our first graphs together"
   ]
  },
  {
   "cell_type": "code",
   "execution_count": null,
   "metadata": {},
   "outputs": [],
   "source": [
    "import pandas as pd\n",
    "from dateutil import parser\n",
    "import requests \n",
    "import matplotlib.pyplot as plt\n",
    "from bokeh.plotting import figure, show, output_notebook, reset_output\n",
    "from bokeh.models import ColumnDataSource, HoverTool\n",
    "from bokeh.embed import components\n",
    "from bokeh.layouts import column\n",
    "import os\n",
    "import math\n",
    "\n",
    "os.chdir('/Users/bethany/Documents/ODSC/notebooks')\n",
    "#sensor_dict ={'00011':'Temperature  Fahrenheit','00060':'Discharge Cubic-per-Second','00065':'Gage Height feet','00010':'Temperature Celsius'}\n",
    "#location_dict = {'01129200':'Below Indian Stream NH','01129500':' North Stratford NH','01131500':'Near Dalton','01138500':'Wells River','01144500':'West Lebanon','01154500':'North Walpole','01161280':'Near Northfield','01172010':'I-391 Bridge @Holyoke','01184000':'Thompsonville','01190070':'Hartford CT','01193050':'Middle Haddam CT','01194750':'Essex CT','01194796':'Old Lyme CT'}\n",
    "\n",
    "sensor_dict ={'63680':'Turbidity' ,'00095':'Conductivity', '00060':'Discharge Cubic-per-Second','00065':'Gage Height feet','00010':'Temperature Celsius'}\n",
    "location_dict ={'02336000': 'Chatahooche River Atlanta', '02335000': 'Chatahooche River Near Norcross'}\n",
    "\n",
    "def pull_usgs(sites, sensors, days, location, sensor_dict):\n",
    "    \"\"\"This is a function which takes a site number and a list of \n",
    "    sensors and number of days\n",
    "    then creates and returns dataframe with a datetime index,\n",
    "    names, ids and value\"\"\"  \n",
    "     #set the formal constuctors of the final URL\n",
    "    api_base = 'http://waterservices.usgs.gov/nwis/iv/?'\n",
    "    form_state = 'format=json'\n",
    "    site_slug =\"&sites=\"\n",
    "    params_slug = '&parameterCd='\n",
    "    #both fixed and variable parameters to br gleened from HTML\n",
    "#     params = '00060,00065' #(comma separated 00060,00065 allow selection)\n",
    "#     sites ='01129500'#(get from web ) \n",
    "    period = '&period=P' +str(days) +'D'\n",
    "\n",
    "    # the composite \n",
    "    url =api_base+form_state+site_slug+sites+period+params_slug+sensors\n",
    "\n",
    "    #Accessing API data\n",
    "    response = requests.get(url)\n",
    "    \n",
    "    #extracting the JSON from the response object\n",
    "    raw = response.json()\n",
    "    \n",
    "    #Extracting the Data from the metadata JSON \n",
    "    data = raw['value']['timeSeries']\n",
    "    stream_data =pd.DataFrame(columns=['date_time','site_id', 'site_name', 'sensor', 'sensor_code', 'value'])\n",
    "    # The best Free JSON Tool ever made: http://chris.photobooks.com/json/default.htm\n",
    "    \n",
    "    #simple but ugly means of re-structuring heavily nested (GOVERNMENT) data\n",
    "    for i, d in enumerate(data):\n",
    "        #print('i {}: d: {}'.format(i,d))\n",
    "        site_id = data[i]['name'].split(':')[1]\n",
    "        site_n = location_dict[site_id]\n",
    "        idn = data[i]['name'].split(':')[2]\n",
    "        idw = sensor_dict[idn]\n",
    "        #print(idn, idw, site_id)\n",
    "        sub_data = data[i]['values'][0]['value']\n",
    "        for j, d2 in enumerate(sub_data):\n",
    "            value = sub_data[j]['value']\n",
    "            date = parser.parse(sub_data[j]['dateTime']).strftime('%Y-%m-%d %H:%M')\n",
    "            #print(dates, values)\n",
    "            reading ={'date_time':date,\n",
    "                         'site_id': site_id,\n",
    "                         'site_name' : site_n,\n",
    "                         'sensor':idw,\n",
    "                         'sensor_code':idn,\n",
    "                         'value':value}\n",
    "            reading = pd.DataFrame.from_dict(reading, orient='index').T\n",
    "            stream_data = stream_data.append(reading, ignore_index = True)\n",
    "            \n",
    "    #converting our dates and values to dates and values\n",
    "    stream_data['date_time'] = pd.to_datetime(stream_data['date_time'])\n",
    "    stream_data['value']=stream_data['value'].map(lambda x: float(x))\n",
    "    \n",
    "    # making a dataframe, grouping by sensor and date setting the index\n",
    "    stream_data = pd.DataFrame(stream_data.groupby(['date_time', 'sensor_code'])['value'].mean())\n",
    "    stream_data.reset_index(inplace=True)\n",
    "    \n",
    "    #Making the data wide future ease and human interpretability\n",
    "    stream_data = stream_data.pivot(index='date_time',columns='sensor_code',values='value')\n",
    "    return(sites, stream_data)\n"
   ]
  },
  {
   "cell_type": "code",
   "execution_count": null,
   "metadata": {},
   "outputs": [],
   "source": [
    "site, usgs = pull_usgs('02336000','00010,00060,00065,00095,63680', 3, location_dict, sensor_dict)"
   ]
  },
  {
   "cell_type": "code",
   "execution_count": null,
   "metadata": {},
   "outputs": [],
   "source": [
    "site"
   ]
  },
  {
   "cell_type": "code",
   "execution_count": null,
   "metadata": {},
   "outputs": [],
   "source": [
    "usgs.head()"
   ]
  },
  {
   "cell_type": "markdown",
   "metadata": {},
   "source": [
    "## What would `matplotlib` do?"
   ]
  },
  {
   "cell_type": "code",
   "execution_count": null,
   "metadata": {},
   "outputs": [],
   "source": [
    "def stream_plotter(data, sensor_code, site , color = 'purple'):\n",
    "    \"\"\"Accepts a Dataframe, plotting color and column name\n",
    "    returns a bokeh plot labeled with hovers\"\"\"\n",
    "    sensor_dict ={'63680':'Turbidity' ,'00095':'Conductivity', '00060':'Discharge Cubic-per-Second','00065':'Gage Height feet','00010':'Temperature Celsius'}\n",
    "    location_dict ={'02336000': 'Chatahooche River Atlanta', '02335000': 'Chatahooche River Near Norcross'}\n",
    "\n",
    "    title = '{} for {}'.format(sensor_dict[sensor_code], location_dict[site])\n",
    "    plot = plt.figure(figsize=(16,5))\n",
    "    plt.title(title)\n",
    "    plt.plot(data[sensor_code], c = color)\n",
    "    plt.xticks(rotation=45);\n",
    "    return(plot)"
   ]
  },
  {
   "cell_type": "code",
   "execution_count": null,
   "metadata": {},
   "outputs": [],
   "source": [
    "stream_plotter(usgs, '00010', site, 'blue');\n",
    "# all the codes 00010, 00060, 00065, 00095, 63680"
   ]
  },
  {
   "cell_type": "markdown",
   "metadata": {},
   "source": [
    "\n",
    "### Building Out  Bokeh Graphing Functions\n",
    " - First Function Foundation parts\n",
    "     - Create a `ColumnDataSource` in bokeh \n",
    "     - Create a schema for our hover tool\n",
    "     - create `source` and `hover` enities\n",
    " - Second Function The Time Series Graph!\n",
    " \n",
    " ### The `Sourcer` Function"
   ]
  },
  {
   "cell_type": "code",
   "execution_count": null,
   "metadata": {},
   "outputs": [],
   "source": [
    "def sourcer(data):\n",
    "    source = ColumnDataSource(data={\n",
    "        'date'      : data.index,\n",
    "        '00060' : data['00060'],\n",
    "        '00065'    : data['00065'],\n",
    "        '00010'  : data['00010'],\n",
    "        '63680': data['63680'],\n",
    "        '00095': data['00095'],\n",
    "        'time':data.index.time\n",
    "    })\n",
    "    \n",
    "    hov= HoverTool(\n",
    "    tooltips=[('Time', '@time{%H:%M}'),\n",
    "              ( 'Discharge (cubic feet/second)','@00060' ),\n",
    "             ('Gage Height (feet) ', '@00065'),\n",
    "             ('Water Temperature (Celsius)', '@00010'),\n",
    "             ('Condcutivity', '@00095'),\n",
    "             ('Turbidity', '@63680')],\n",
    "        formatters={\n",
    "        'time'      : 'datetime', \n",
    "        'discharge' : 'printf', \n",
    "        'gage' : 'printf',\n",
    "        'temp_c' : 'printf'\n",
    "    },\n",
    "    mode = 'vline'\n",
    "    )\n",
    "    return(source, hov)\n",
    "source, hov = sourcer(usgs)"
   ]
  },
  {
   "cell_type": "code",
   "execution_count": null,
   "metadata": {},
   "outputs": [],
   "source": [
    "#source."
   ]
  },
  {
   "cell_type": "markdown",
   "metadata": {},
   "source": [
    "### The `date_plot` Function"
   ]
  },
  {
   "cell_type": "code",
   "execution_count": null,
   "metadata": {},
   "outputs": [],
   "source": [
    "def date_plot(data, sensor, site = site, sensor_dict=sensor_dict, location_dict=location_dict):\n",
    "    source, hov = sourcer(usgs)\n",
    "    p = figure(plot_width=900, plot_height=400, title=\"{} at \\t Site number: {} \\t Location: {}\".format(site, location_dict[site], sensor_dict[sensor]), x_axis_type=\"datetime\")\n",
    "    p.line(x='date', y = sensor, color='darkorchid', legend= sensor_dict[sensor].split()[0], source = source)\n",
    "    p.xaxis.axis_label = 'Date'\n",
    "    p.yaxis.axis_label = sensor_dict[sensor]\n",
    "    p.xaxis.major_label_orientation = math.pi/4\n",
    "    p.add_tools(hov)\n",
    "    show(p)\n",
    " "
   ]
  },
  {
   "cell_type": "code",
   "execution_count": null,
   "metadata": {},
   "outputs": [],
   "source": [
    "   \n",
    "date_plot(usgs, sensor = '00065')"
   ]
  },
  {
   "cell_type": "code",
   "execution_count": null,
   "metadata": {},
   "outputs": [],
   "source": [
    "date_plot(usgs, sensor = '00095')"
   ]
  },
  {
   "cell_type": "code",
   "execution_count": null,
   "metadata": {},
   "outputs": [],
   "source": [
    "date_plot(usgs,sensor = '00095')"
   ]
  },
  {
   "cell_type": "code",
   "execution_count": null,
   "metadata": {},
   "outputs": [],
   "source": [
    "date_plot(usgs,sensor = '00060')"
   ]
  },
  {
   "cell_type": "code",
   "execution_count": null,
   "metadata": {},
   "outputs": [],
   "source": [
    "output_notebook()\n",
    "date_plot(usgs, sensor = '00065')"
   ]
  },
  {
   "cell_type": "code",
   "execution_count": null,
   "metadata": {},
   "outputs": [],
   "source": [
    "date_plot(usgs,sensor = '00010')  "
   ]
  },
  {
   "cell_type": "code",
   "execution_count": null,
   "metadata": {},
   "outputs": [],
   "source": [
    "date_plot(usgs, sensor = '63680')"
   ]
  },
  {
   "cell_type": "markdown",
   "metadata": {},
   "source": [
    "## Modifying Function for Flask\n",
    "We need to push a two part plot to flask in the form of `div` and `script` this is accomplished using `components( )` to separate out the parts"
   ]
  },
  {
   "cell_type": "code",
   "execution_count": null,
   "metadata": {},
   "outputs": [],
   "source": [
    "def date_plot(data, sensor, site = site, sensor_dict=sensor_dict, location_dict=location_dict):\n",
    "    source, hov = sourcer(usgs)\n",
    "    p = figure(plot_width=900, plot_height=400, title=\"{} at \\t Site number: {} \\t Location: {}\".format(site, location_dict[site], sensor_dict[sensor]), x_axis_type=\"datetime\")\n",
    "    p.line(x='date', y = sensor, color='#eb1736', legend= sensor_dict[sensor].split()[0], source = source)\n",
    "    p.xaxis.axis_label = 'Date'\n",
    "    p.yaxis.axis_label = sensor_dict[sensor]\n",
    "    p.xaxis.major_label_orientation = math.pi/4\n",
    "    p.add_tools(hov)\n",
    "    #show(p)\n",
    "    return(components(p))"
   ]
  },
  {
   "cell_type": "code",
   "execution_count": null,
   "metadata": {},
   "outputs": [],
   "source": [
    "script, div = date_plot(usgs, sensor = '63680')"
   ]
  },
  {
   "cell_type": "markdown",
   "metadata": {},
   "source": [
    "### What We are Passing to Flask"
   ]
  },
  {
   "cell_type": "code",
   "execution_count": null,
   "metadata": {},
   "outputs": [],
   "source": [
    "script"
   ]
  },
  {
   "cell_type": "code",
   "execution_count": null,
   "metadata": {},
   "outputs": [],
   "source": [
    "div"
   ]
  },
  {
   "cell_type": "code",
   "execution_count": null,
   "metadata": {},
   "outputs": [],
   "source": []
  }
 ],
 "metadata": {
  "kernelspec": {
   "display_name": "Python 3",
   "language": "python",
   "name": "python3"
  },
  "language_info": {
   "codemirror_mode": {
    "name": "ipython",
    "version": 3
   },
   "file_extension": ".py",
   "mimetype": "text/x-python",
   "name": "python",
   "nbconvert_exporter": "python",
   "pygments_lexer": "ipython3",
   "version": "3.6.8"
  }
 },
 "nbformat": 4,
 "nbformat_minor": 2
}
